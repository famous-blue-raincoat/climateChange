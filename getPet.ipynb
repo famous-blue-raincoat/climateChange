{
 "cells": [
  {
   "cell_type": "code",
   "execution_count": 2,
   "metadata": {},
   "outputs": [],
   "source": [
    "from pyxlsb import open_workbook\n",
    "import pandas as pd\n",
    "import numpy as np\n",
    "\n",
    "pd.set_option('display.precision',9)\n",
    "\n"
   ]
  },
  {
   "cell_type": "code",
   "execution_count": 2,
   "metadata": {},
   "outputs": [],
   "source": [
    "# points = {\"Decatur Airport\":[39.83079,271.12808],\n",
    "# \"Lincoln Logan County Airport\":[40.15833,270.66528],\n",
    "# \"Springfield Abraham Lincoln Capital Airport\":[39.84529,270.31599],\n",
    "# \"Taylorville Municipal Airport\":[39.53417,270.67222],\n",
    "# \"General Wayne A. Downing International Airport\":[40.66747,270.31582]}\n",
    "\n",
    "points = {\"Springfield Abraham Lincoln Capital Airport\":[39.84529,270.31599]}\n",
    "\n",
    "ssp = {'ssp245':0,'ssp585':0}"
   ]
  },
  {
   "cell_type": "code",
   "execution_count": 3,
   "metadata": {},
   "outputs": [],
   "source": [
    "import os\n",
    "\n",
    "files_dir = os.listdir('./extractData/')\n",
    "files = files_dir[:]\n",
    "cnt = 0\n",
    "\n",
    "file_map = {}\n",
    "\n",
    "for file in files_dir:\n",
    "  ssp_type = file.split('_')[3]\n",
    "  model = file.split('_')[2]\n",
    "  place = file.split('_')[-1].strip('.csv')\n",
    "  type = file.split('_')[0]\n",
    "  \n",
    "  # if cnt ==10:break\n",
    "  # print(file.split('_'))\n",
    "  if place in points:\n",
    "    if ssp_type in ['ssp245','ssp585']:\n",
    "      li = file_map.get(f\"{model}_{place}_{ssp_type}\",[])\n",
    "      li.append(file)      \n",
    "      file_map[f\"{model}_{place}_{ssp_type}\"] = li\n",
    "      # print(model,\" \",type)"
   ]
  },
  {
   "cell_type": "code",
   "execution_count": 4,
   "metadata": {},
   "outputs": [],
   "source": [
    "def read_xlsb_to_dataframe(file_path, sheet_name):\n",
    "    with open_workbook(file_path) as wb:\n",
    "        with wb.get_sheet(sheet_name) as sheet:\n",
    "            rows = []\n",
    "            for row in sheet.rows():\n",
    "                rows.append([item.v for item in row])\n",
    "\n",
    "            # Use the first row as the header and the rest as data\n",
    "            df = pd.DataFrame(rows[1:], columns=rows[0])\n",
    "            return df"
   ]
  },
  {
   "cell_type": "code",
   "execution_count": 18,
   "metadata": {},
   "outputs": [],
   "source": [
    "q_li = file_map['ACCESS-CM2_Springfield Abraham Lincoln Capital Airport_ssp585']\n",
    "\n",
    "if 'pr_day' in q_li[0]:\n",
    "  pr_name, tas_name = q_li\n",
    "else:\n",
    "  tas_name, pr_name = q_li\n",
    "\n",
    "pr,tas = pd.read_csv('./extractData/'+pr_name), pd.read_csv('./extractData/'+tas_name)"
   ]
  },
  {
   "cell_type": "code",
   "execution_count": 19,
   "metadata": {},
   "outputs": [],
   "source": [
    "# Generate a DataFrame with hours 0-23\n",
    "hours = pd.DataFrame({'Hour': [f\"{hour:02d}\" for hour in range(24)]})\n",
    "\n",
    "# Cartesian product of the original DataFrame with the hours DataFrame\n",
    "pr['key'] = 1\n",
    "hours['key'] = 1\n",
    "expanded_pr = pd.merge(pr, hours, on='key').drop('key', axis=1)  # Corrected drop method\n",
    "\n",
    "# Combine the Date and Hour columns\n",
    "expanded_pr['DateTime'] = expanded_pr['time'] + '-' + expanded_pr['Hour']\n",
    "\n",
    "tas['key'] = 1\n",
    "hours['key'] = 1\n",
    "expanded_tas = pd.merge(tas, hours, on='key').drop('key', axis=1)  # Corrected drop method\n",
    "\n",
    "# Combine the Date and Hour columns\n",
    "expanded_tas['DateTime'] = expanded_tas['time'] + '-' + expanded_tas['Hour']\n"
   ]
  },
  {
   "cell_type": "code",
   "execution_count": 7,
   "metadata": {},
   "outputs": [],
   "source": [
    "start_date = '2015-01-01'\n",
    "end_date = '2101-01-01'\n",
    "date_range = pd.date_range(start=start_date, end=end_date, freq='H')\n",
    "\n",
    "# Convert to desired string format\n",
    "formatted_dates = date_range.strftime('%Y-%m-%d-%H')[:-1]"
   ]
  },
  {
   "cell_type": "code",
   "execution_count": 8,
   "metadata": {},
   "outputs": [],
   "source": [
    "longTerm = read_xlsb_to_dataframe('./Springfield_93822_CMIP6.xlsb', 'LongTerm')\n",
    "\n",
    "a = longTerm.dropna()\n",
    "\n"
   ]
  },
  {
   "cell_type": "code",
   "execution_count": 20,
   "metadata": {},
   "outputs": [],
   "source": [
    "lt_process = pd.DataFrame()\n",
    "lt_process['YMDH'] = formatted_dates\n",
    "lt_process[' Air Tem in Deg C'] = a[' Air Tem in Deg C']\n",
    "lt_process['DailyAirTem'] = a['DailyAirTem']\n",
    "\n",
    "lt_process['airtem (DegC)'] = expanded_tas['tas'] - 273.15\n",
    "lt_process['pre for PET(mm/hr)'] = expanded_pr['pr'] * 3600"
   ]
  },
  {
   "cell_type": "code",
   "execution_count": 10,
   "metadata": {},
   "outputs": [],
   "source": [
    "pet = read_xlsb_to_dataframe('./Springfield_93822_CMIP6.xlsb', 'PET')"
   ]
  },
  {
   "cell_type": "code",
   "execution_count": 21,
   "metadata": {},
   "outputs": [],
   "source": [
    "# pet = pd.DataFrame()\n",
    "pet['time'] = lt_process['YMDH']\n",
    "pet['Precip (mm/hr)'] = lt_process['pre for PET(mm/hr)']\n",
    "pet['Air Tem in Deg C'] = lt_process[' Air Tem in Deg C'] + lt_process['airtem (DegC)'] - lt_process['DailyAirTem']\n",
    "pet['dewpoint, C'] = pet['Air Tem in Deg C']-((100-pet['Relative Humidity'])/5)\n",
    "# =LongTerm!K2+(CMIP6TemPR!O2-LongTerm!M2)"
   ]
  },
  {
   "cell_type": "code",
   "execution_count": 22,
   "metadata": {},
   "outputs": [],
   "source": [
    "# Constants\n",
    "coef = 0.000665\n",
    "sbcoef = 4.903e-09\n",
    "lines = 753865"
   ]
  },
  {
   "cell_type": "code",
   "execution_count": 23,
   "metadata": {},
   "outputs": [],
   "source": [
    "pressure = pet['Air pressure(milibar)'].values\n",
    "t = pet['Air Tem in Deg C'].values\n",
    "rh = pet['Relative Humidity'].values\n",
    "Rs = pet[\"solar,M joules/m2/hr\"].values\n",
    "wind = pet['Wind Speed (m/s)'].values\n"
   ]
  },
  {
   "cell_type": "code",
   "execution_count": 24,
   "metadata": {},
   "outputs": [],
   "source": [
    "rconst = coef * pressure\n",
    "e0 = 0.6108 * np.exp(17.27 * t / (t + 237.3))\n",
    "ea = e0 * rh / 100\n",
    "delta = 4098 * e0 / ((t + 237.3) ** 2)\n",
    "r = np.full_like(t, 0.7)  # Assuming r = Rs/Rso, and it's the same for all elements\n",
    "\n",
    "# Rnl calculation\n",
    "Rnl = sbcoef / 24 * (273.16 + t) ** 4 * (0.34 - 0.14 * np.sqrt(ea)) * (1.35 * r - 0.35)\n",
    "\n",
    "Rn = Rs - Rnl\n",
    "Ghr = np.where(Rs > 0, 0.1 * Rn, 0.5 * Rn)\n",
    "\n",
    "p1 = 0.408 * delta * (Rn - Ghr)\n",
    "p2 = rconst * 37 / (t + 273) * wind * (e0 - ea)\n",
    "p3 = delta + rconst * (1 + 0.34 * wind)\n",
    "\n",
    "petcal = (p1 + p2) / p3\n",
    "petcal = np.maximum(petcal, 0)  # Ensures petcal is not negative"
   ]
  },
  {
   "cell_type": "code",
   "execution_count": 25,
   "metadata": {},
   "outputs": [],
   "source": [
    "hspf = pd.DataFrame()\n",
    "\n",
    "\n",
    "hspf['DummyColumn'] = np.full_like(t, 10).astype(int)\n",
    "hspf['YMDH'] = pd.to_datetime(lt_process['YMDH'])\n",
    "hspf['year'] = hspf['YMDH'].dt.year\n",
    "hspf['month'] = hspf['YMDH'].dt.month\n",
    "hspf['day'] = hspf['YMDH'].dt.day\n",
    "hspf['hour'] = hspf['YMDH'].dt.hour\n",
    "hspf['minute'] = hspf['YMDH'].dt.minute\n",
    "hspf = hspf.drop('YMDH',axis=1)\n",
    "\n",
    "hspf['Precip (in/hr)'] = pet['Precip (mm/hr)']/25.4\n",
    "hspf['PET (in/hr)'] = petcal/25.4\n",
    "hspf['Air Tem F'] = pet['Air Tem in Deg C']*9/5 + 32\n",
    "hspf['Wind Speed (mi/hr)'] = pet['Wind Speed (m/s)']*3600/1609.344\n",
    "hspf['solar, ly/hr (50% clear sky), exclue rain events'] = pet['clear sky solar, ly/hr']/2\n",
    "hspf['dewpoint, F'] = pet['dewpoint, C']*9/5 + 32\n",
    "\n",
    "hspf['Cloud Cover'] = np.full_like(t, 6.5)"
   ]
  },
  {
   "cell_type": "code",
   "execution_count": 9,
   "metadata": {},
   "outputs": [],
   "source": [
    "header=\"\"\"10   LSPC METEOROLOGICAL DATA FILE FOR DRIVING WATERSHED MODEL\n",
    "10   Time interval:  60 mins          Last month in printout year: 12\n",
    "10   No. of curves plotted:  Point-valued:  0   Mean-valued:  7   Total  7\n",
    "10   Label flag:  0          Pivl:    1          Idelt:  60\n",
    "10   Plot title:  RA077- WMS_Hourly_Rain_Sites\n",
    "10   Y-axis label:\n",
    "10   Scale info:  Ymin:  0.00000               Threshold:-0.10000E+31\n",
    "10                Ymax:   1000.0\n",
    "10                Time:   20.000     intervals/inch\n",
    "10   Data for each curve (Point-valued first, then mean-valued):\n",
    "10   Label                   LINTYP     INTEQ    COLCOD      TRAN   TRANCOD\n",
    "10   PRECIPI IN/TIMESTEP          0         5         1      AVER         2\n",
    "10   POT ET, IN/TIMESTEP          0         5         1      AVER         2\n",
    "\n",
    "10   AIR TEMP, DEG F              0         5         1      AVER         2\n",
    "10   WIND SPEED,MI/TIMESTEP       0         5         1      AVER         2\n",
    "10   SOLAR RAD,LY/TIMESTEP        0         5         1      AVER         2\n",
    "10   DEW POINT, DEG F             0         5         1      AVER         2\n",
    "10   CLOUD COVER, TENTHS          0         5         1      AVER         2\n",
    "10\n",
    "10\n",
    "10   Time series (pt-valued, then mean-valued):\n",
    "10\n",
    "10   Date/time                      Values\n",
    "10\n",
    "\"\"\""
   ]
  },
  {
   "cell_type": "code",
   "execution_count": 10,
   "metadata": {},
   "outputs": [
    {
     "name": "stdout",
     "output_type": "stream",
     "text": [
      "Content written to example.air\n"
     ]
    }
   ],
   "source": [
    "# Example content to write\n",
    "content = hspf.to_csv(index=False,header=False).replace(\",\",\"    \")\n",
    "\n",
    "content = header + content\n",
    "\n",
    "# Specify the file name\n",
    "file_name = \"example.air\"\n",
    "\n",
    "# Write content to the file\n",
    "with open(file_name, 'w') as file:\n",
    "    file.write(content)\n",
    "\n",
    "print(f\"Content written to {file_name}\")\n"
   ]
  }
 ],
 "metadata": {
  "kernelspec": {
   "display_name": "base",
   "language": "python",
   "name": "python3"
  },
  "language_info": {
   "codemirror_mode": {
    "name": "ipython",
    "version": 3
   },
   "file_extension": ".py",
   "mimetype": "text/x-python",
   "name": "python",
   "nbconvert_exporter": "python",
   "pygments_lexer": "ipython3",
   "version": "3.1.0"
  }
 },
 "nbformat": 4,
 "nbformat_minor": 2
}
